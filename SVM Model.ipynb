{
 "cells": [
  {
   "cell_type": "code",
   "execution_count": 1,
   "id": "9d090238",
   "metadata": {},
   "outputs": [],
   "source": [
    "using MAT\n",
    "using Plots\n",
    "using Pkg\n",
    "using LazyGrids"
   ]
  },
  {
   "cell_type": "code",
   "execution_count": 2,
   "id": "84fc67a3",
   "metadata": {},
   "outputs": [
    {
     "data": {
      "image/svg+xml": "<?xml version=\"1.0\" encoding=\"utf-8\"?>\n<svg xmlns=\"http://www.w3.org/2000/svg\" xmlns:xlink=\"http://www.w3.org/1999/xlink\" width=\"600\" height=\"400\" viewBox=\"0 0 2400 1600\">\n<defs>\n  <clipPath id=\"clip090\">\n    <rect x=\"0\" y=\"0\" width=\"2400\" height=\"1600\"/>\n  </clipPath>\n</defs>\n<path clip-path=\"url(#clip090)\" d=\"\nM0 1600 L2400 1600 L2400 0 L0 0  Z\n  \" fill=\"#ffffff\" fill-rule=\"evenodd\" fill-opacity=\"1\"/>\n<defs>\n  <clipPath id=\"clip091\">\n    <rect x=\"480\" y=\"0\" width=\"1681\" height=\"1600\"/>\n  </clipPath>\n</defs>\n<path clip-path=\"url(#clip090)\" d=\"\nM156.922 1486.45 L2352.76 1486.45 L2352.76 47.2441 L156.922 47.2441  Z\n  \" fill=\"#ffffff\" fill-rule=\"evenodd\" fill-opacity=\"1\"/>\n<defs>\n  <clipPath id=\"clip092\">\n    <rect x=\"156\" y=\"47\" width=\"2197\" height=\"1440\"/>\n  </clipPath>\n</defs>\n<polyline clip-path=\"url(#clip092)\" style=\"stroke:#000000; stroke-linecap:butt; stroke-linejoin:round; stroke-width:2; stroke-opacity:0.1; fill:none\" points=\"\n  173.507,1486.45 173.507,47.2441 \n  \"/>\n<polyline clip-path=\"url(#clip092)\" style=\"stroke:#000000; stroke-linecap:butt; stroke-linejoin:round; stroke-width:2; stroke-opacity:0.1; fill:none\" points=\"\n  700.806,1486.45 700.806,47.2441 \n  \"/>\n<polyline clip-path=\"url(#clip092)\" style=\"stroke:#000000; stroke-linecap:butt; stroke-linejoin:round; stroke-width:2; stroke-opacity:0.1; fill:none\" points=\"\n  1228.1,1486.45 1228.1,47.2441 \n  \"/>\n<polyline clip-path=\"url(#clip092)\" style=\"stroke:#000000; stroke-linecap:butt; stroke-linejoin:round; stroke-width:2; stroke-opacity:0.1; fill:none\" points=\"\n  1755.4,1486.45 1755.4,47.2441 \n  \"/>\n<polyline clip-path=\"url(#clip092)\" style=\"stroke:#000000; stroke-linecap:butt; stroke-linejoin:round; stroke-width:2; stroke-opacity:0.1; fill:none\" points=\"\n  2282.7,1486.45 2282.7,47.2441 \n  \"/>\n<polyline clip-path=\"url(#clip090)\" style=\"stroke:#000000; stroke-linecap:butt; stroke-linejoin:round; stroke-width:4; stroke-opacity:1; fill:none\" points=\"\n  156.922,1486.45 2352.76,1486.45 \n  \"/>\n<polyline clip-path=\"url(#clip090)\" style=\"stroke:#000000; stroke-linecap:butt; stroke-linejoin:round; stroke-width:4; stroke-opacity:1; fill:none\" points=\"\n  173.507,1486.45 173.507,1467.55 \n  \"/>\n<polyline clip-path=\"url(#clip090)\" style=\"stroke:#000000; stroke-linecap:butt; stroke-linejoin:round; stroke-width:4; stroke-opacity:1; fill:none\" points=\"\n  700.806,1486.45 700.806,1467.55 \n  \"/>\n<polyline clip-path=\"url(#clip090)\" style=\"stroke:#000000; stroke-linecap:butt; stroke-linejoin:round; stroke-width:4; stroke-opacity:1; fill:none\" points=\"\n  1228.1,1486.45 1228.1,1467.55 \n  \"/>\n<polyline clip-path=\"url(#clip090)\" style=\"stroke:#000000; stroke-linecap:butt; stroke-linejoin:round; stroke-width:4; stroke-opacity:1; fill:none\" points=\"\n  1755.4,1486.45 1755.4,1467.55 \n  \"/>\n<polyline clip-path=\"url(#clip090)\" style=\"stroke:#000000; stroke-linecap:butt; stroke-linejoin:round; stroke-width:4; stroke-opacity:1; fill:none\" points=\"\n  2282.7,1486.45 2282.7,1467.55 \n  \"/>\n<path clip-path=\"url(#clip090)\" d=\"M173.507 1515.64 Q169.896 1515.64 168.068 1519.2 Q166.262 1522.75 166.262 1529.87 Q166.262 1536.98 168.068 1540.55 Q169.896 1544.09 173.507 1544.09 Q177.142 1544.09 178.947 1540.55 Q180.776 1536.98 180.776 1529.87 Q180.776 1522.75 178.947 1519.2 Q177.142 1515.64 173.507 1515.64 M173.507 1511.93 Q179.317 1511.93 182.373 1516.54 Q185.452 1521.12 185.452 1529.87 Q185.452 1538.6 182.373 1543.21 Q179.317 1547.79 173.507 1547.79 Q167.697 1547.79 164.618 1543.21 Q161.563 1538.6 161.563 1529.87 Q161.563 1521.12 164.618 1516.54 Q167.697 1511.93 173.507 1511.93 Z\" fill=\"#000000\" fill-rule=\"evenodd\" fill-opacity=\"1\" /><path clip-path=\"url(#clip090)\" d=\"M691.188 1543.18 L698.826 1543.18 L698.826 1516.82 L690.516 1518.49 L690.516 1514.23 L698.78 1512.56 L703.456 1512.56 L703.456 1543.18 L711.095 1543.18 L711.095 1547.12 L691.188 1547.12 L691.188 1543.18 Z\" fill=\"#000000\" fill-rule=\"evenodd\" fill-opacity=\"1\" /><path clip-path=\"url(#clip090)\" d=\"M1222.76 1543.18 L1239.08 1543.18 L1239.08 1547.12 L1217.13 1547.12 L1217.13 1543.18 Q1219.79 1540.43 1224.38 1535.8 Q1228.98 1531.15 1230.16 1529.81 Q1232.41 1527.28 1233.29 1525.55 Q1234.19 1523.79 1234.19 1522.1 Q1234.19 1519.34 1232.25 1517.61 Q1230.33 1515.87 1227.22 1515.87 Q1225.03 1515.87 1222.57 1516.63 Q1220.14 1517.4 1217.36 1518.95 L1217.36 1514.23 Q1220.19 1513.09 1222.64 1512.51 Q1225.09 1511.93 1227.13 1511.93 Q1232.5 1511.93 1235.7 1514.62 Q1238.89 1517.31 1238.89 1521.8 Q1238.89 1523.93 1238.08 1525.85 Q1237.29 1527.74 1235.19 1530.34 Q1234.61 1531.01 1231.51 1534.23 Q1228.4 1537.42 1222.76 1543.18 Z\" fill=\"#000000\" fill-rule=\"evenodd\" fill-opacity=\"1\" /><path clip-path=\"url(#clip090)\" d=\"M1759.65 1528.49 Q1763.01 1529.2 1764.88 1531.47 Q1766.78 1533.74 1766.78 1537.07 Q1766.78 1542.19 1763.26 1544.99 Q1759.74 1547.79 1753.26 1547.79 Q1751.08 1547.79 1748.77 1547.35 Q1746.48 1546.93 1744.02 1546.08 L1744.02 1541.56 Q1745.97 1542.7 1748.28 1543.28 Q1750.6 1543.86 1753.12 1543.86 Q1757.52 1543.86 1759.81 1542.12 Q1762.13 1540.38 1762.13 1537.07 Q1762.13 1534.02 1759.97 1532.31 Q1757.84 1530.57 1754.02 1530.57 L1750 1530.57 L1750 1526.73 L1754.21 1526.73 Q1757.66 1526.73 1759.49 1525.36 Q1761.32 1523.97 1761.32 1521.38 Q1761.32 1518.72 1759.42 1517.31 Q1757.54 1515.87 1754.02 1515.87 Q1752.1 1515.87 1749.9 1516.29 Q1747.71 1516.7 1745.07 1517.58 L1745.07 1513.42 Q1747.73 1512.68 1750.04 1512.31 Q1752.38 1511.93 1754.44 1511.93 Q1759.77 1511.93 1762.87 1514.37 Q1765.97 1516.77 1765.97 1520.89 Q1765.97 1523.76 1764.33 1525.75 Q1762.68 1527.72 1759.65 1528.49 Z\" fill=\"#000000\" fill-rule=\"evenodd\" fill-opacity=\"1\" /><path clip-path=\"url(#clip090)\" d=\"M2285.71 1516.63 L2273.9 1535.08 L2285.71 1535.08 L2285.71 1516.63 M2284.48 1512.56 L2290.36 1512.56 L2290.36 1535.08 L2295.29 1535.08 L2295.29 1538.97 L2290.36 1538.97 L2290.36 1547.12 L2285.71 1547.12 L2285.71 1538.97 L2270.11 1538.97 L2270.11 1534.46 L2284.48 1512.56 Z\" fill=\"#000000\" fill-rule=\"evenodd\" fill-opacity=\"1\" /><polyline clip-path=\"url(#clip092)\" style=\"stroke:#000000; stroke-linecap:butt; stroke-linejoin:round; stroke-width:2; stroke-opacity:0.1; fill:none\" points=\"\n  156.922,1272.61 2352.76,1272.61 \n  \"/>\n<polyline clip-path=\"url(#clip092)\" style=\"stroke:#000000; stroke-linecap:butt; stroke-linejoin:round; stroke-width:2; stroke-opacity:0.1; fill:none\" points=\"\n  156.922,1046.2 2352.76,1046.2 \n  \"/>\n<polyline clip-path=\"url(#clip092)\" style=\"stroke:#000000; stroke-linecap:butt; stroke-linejoin:round; stroke-width:2; stroke-opacity:0.1; fill:none\" points=\"\n  156.922,819.802 2352.76,819.802 \n  \"/>\n<polyline clip-path=\"url(#clip092)\" style=\"stroke:#000000; stroke-linecap:butt; stroke-linejoin:round; stroke-width:2; stroke-opacity:0.1; fill:none\" points=\"\n  156.922,593.399 2352.76,593.399 \n  \"/>\n<polyline clip-path=\"url(#clip092)\" style=\"stroke:#000000; stroke-linecap:butt; stroke-linejoin:round; stroke-width:2; stroke-opacity:0.1; fill:none\" points=\"\n  156.922,366.995 2352.76,366.995 \n  \"/>\n<polyline clip-path=\"url(#clip092)\" style=\"stroke:#000000; stroke-linecap:butt; stroke-linejoin:round; stroke-width:2; stroke-opacity:0.1; fill:none\" points=\"\n  156.922,140.592 2352.76,140.592 \n  \"/>\n<polyline clip-path=\"url(#clip090)\" style=\"stroke:#000000; stroke-linecap:butt; stroke-linejoin:round; stroke-width:4; stroke-opacity:1; fill:none\" points=\"\n  156.922,1486.45 156.922,47.2441 \n  \"/>\n<polyline clip-path=\"url(#clip090)\" style=\"stroke:#000000; stroke-linecap:butt; stroke-linejoin:round; stroke-width:4; stroke-opacity:1; fill:none\" points=\"\n  156.922,1272.61 175.82,1272.61 \n  \"/>\n<polyline clip-path=\"url(#clip090)\" style=\"stroke:#000000; stroke-linecap:butt; stroke-linejoin:round; stroke-width:4; stroke-opacity:1; fill:none\" points=\"\n  156.922,1046.2 175.82,1046.2 \n  \"/>\n<polyline clip-path=\"url(#clip090)\" style=\"stroke:#000000; stroke-linecap:butt; stroke-linejoin:round; stroke-width:4; stroke-opacity:1; fill:none\" points=\"\n  156.922,819.802 175.82,819.802 \n  \"/>\n<polyline clip-path=\"url(#clip090)\" style=\"stroke:#000000; stroke-linecap:butt; stroke-linejoin:round; stroke-width:4; stroke-opacity:1; fill:none\" points=\"\n  156.922,593.399 175.82,593.399 \n  \"/>\n<polyline clip-path=\"url(#clip090)\" style=\"stroke:#000000; stroke-linecap:butt; stroke-linejoin:round; stroke-width:4; stroke-opacity:1; fill:none\" points=\"\n  156.922,366.995 175.82,366.995 \n  \"/>\n<polyline clip-path=\"url(#clip090)\" style=\"stroke:#000000; stroke-linecap:butt; stroke-linejoin:round; stroke-width:4; stroke-opacity:1; fill:none\" points=\"\n  156.922,140.592 175.82,140.592 \n  \"/>\n<path clip-path=\"url(#clip090)\" d=\"M57.7745 1285.95 L74.0939 1285.95 L74.0939 1289.89 L52.1495 1289.89 L52.1495 1285.95 Q54.8115 1283.2 59.3949 1278.57 Q64.0013 1273.92 65.1819 1272.57 Q67.4272 1270.05 68.3068 1268.31 Q69.2096 1266.55 69.2096 1264.86 Q69.2096 1262.11 67.2652 1260.37 Q65.3439 1258.64 62.2421 1258.64 Q60.043 1258.64 57.5893 1259.4 Q55.1588 1260.17 52.381 1261.72 L52.381 1256.99 Q55.2051 1255.86 57.6588 1255.28 Q60.1124 1254.7 62.1495 1254.7 Q67.5198 1254.7 70.7142 1257.39 Q73.9087 1260.07 73.9087 1264.56 Q73.9087 1266.69 73.0985 1268.61 Q72.3115 1270.51 70.205 1273.11 Q69.6263 1273.78 66.5245 1276.99 Q63.4226 1280.19 57.7745 1285.95 Z\" fill=\"#000000\" fill-rule=\"evenodd\" fill-opacity=\"1\" /><path clip-path=\"url(#clip090)\" d=\"M83.9086 1284.01 L88.7928 1284.01 L88.7928 1289.89 L83.9086 1289.89 L83.9086 1284.01 Z\" fill=\"#000000\" fill-rule=\"evenodd\" fill-opacity=\"1\" /><path clip-path=\"url(#clip090)\" d=\"M108.978 1258.41 Q105.367 1258.41 103.538 1261.97 Q101.733 1265.51 101.733 1272.64 Q101.733 1279.75 103.538 1283.31 Q105.367 1286.86 108.978 1286.86 Q112.612 1286.86 114.418 1283.31 Q116.246 1279.75 116.246 1272.64 Q116.246 1265.51 114.418 1261.97 Q112.612 1258.41 108.978 1258.41 M108.978 1254.7 Q114.788 1254.7 117.844 1259.31 Q120.922 1263.89 120.922 1272.64 Q120.922 1281.37 117.844 1285.98 Q114.788 1290.56 108.978 1290.56 Q103.168 1290.56 100.089 1285.98 Q97.0335 1281.37 97.0335 1272.64 Q97.0335 1263.89 100.089 1259.31 Q103.168 1254.7 108.978 1254.7 Z\" fill=\"#000000\" fill-rule=\"evenodd\" fill-opacity=\"1\" /><path clip-path=\"url(#clip090)\" d=\"M58.7699 1059.55 L75.0892 1059.55 L75.0892 1063.48 L53.1449 1063.48 L53.1449 1059.55 Q55.8069 1056.79 60.3902 1052.17 Q64.9967 1047.51 66.1772 1046.17 Q68.4226 1043.65 69.3022 1041.91 Q70.205 1040.15 70.205 1038.46 Q70.205 1035.71 68.2606 1033.97 Q66.3393 1032.23 63.2374 1032.23 Q61.0384 1032.23 58.5847 1033 Q56.1541 1033.76 53.3764 1035.31 L53.3764 1030.59 Q56.2004 1029.46 58.6541 1028.88 Q61.1078 1028.3 63.1448 1028.3 Q68.5152 1028.3 71.7096 1030.98 Q74.904 1033.67 74.904 1038.16 Q74.904 1040.29 74.0939 1042.21 Q73.3068 1044.11 71.2004 1046.7 Q70.6217 1047.37 67.5198 1050.59 Q64.418 1053.79 58.7699 1059.55 Z\" fill=\"#000000\" fill-rule=\"evenodd\" fill-opacity=\"1\" /><path clip-path=\"url(#clip090)\" d=\"M84.904 1057.61 L89.7882 1057.61 L89.7882 1063.48 L84.904 1063.48 L84.904 1057.61 Z\" fill=\"#000000\" fill-rule=\"evenodd\" fill-opacity=\"1\" /><path clip-path=\"url(#clip090)\" d=\"M100.02 1028.92 L118.376 1028.92 L118.376 1032.86 L104.302 1032.86 L104.302 1041.33 Q105.321 1040.98 106.339 1040.82 Q107.358 1040.64 108.376 1040.64 Q114.163 1040.64 117.543 1043.81 Q120.922 1046.98 120.922 1052.4 Q120.922 1057.98 117.45 1061.08 Q113.978 1064.16 107.658 1064.16 Q105.483 1064.16 103.214 1063.79 Q100.969 1063.42 98.5613 1062.67 L98.5613 1057.98 Q100.645 1059.11 102.867 1059.67 Q105.089 1060.22 107.566 1060.22 Q111.571 1060.22 113.908 1058.11 Q116.246 1056.01 116.246 1052.4 Q116.246 1048.79 113.908 1046.68 Q111.571 1044.57 107.566 1044.57 Q105.691 1044.57 103.816 1044.99 Q101.964 1045.41 100.02 1046.29 L100.02 1028.92 Z\" fill=\"#000000\" fill-rule=\"evenodd\" fill-opacity=\"1\" /><path clip-path=\"url(#clip090)\" d=\"M67.9133 818.448 Q71.2698 819.165 73.1448 821.434 Q75.0429 823.702 75.0429 827.035 Q75.0429 832.151 71.5244 834.952 Q68.0059 837.753 61.5245 837.753 Q59.3486 837.753 57.0338 837.313 Q54.7421 836.896 52.2884 836.04 L52.2884 831.526 Q54.2328 832.66 56.5477 833.239 Q58.8625 833.818 61.3856 833.818 Q65.7837 833.818 68.0754 832.082 Q70.3902 830.346 70.3902 827.035 Q70.3902 823.98 68.2374 822.267 Q66.1078 820.531 62.2884 820.531 L58.2606 820.531 L58.2606 816.688 L62.4735 816.688 Q65.9226 816.688 67.7513 815.323 Q69.58 813.934 69.58 811.341 Q69.58 808.679 67.6819 807.267 Q65.8069 805.832 62.2884 805.832 Q60.3671 805.832 58.168 806.249 Q55.969 806.665 53.3301 807.545 L53.3301 803.378 Q55.9921 802.637 58.3069 802.267 Q60.6449 801.897 62.705 801.897 Q68.0291 801.897 71.1309 804.327 Q74.2327 806.735 74.2327 810.855 Q74.2327 813.725 72.5892 815.716 Q70.9457 817.684 67.9133 818.448 Z\" fill=\"#000000\" fill-rule=\"evenodd\" fill-opacity=\"1\" /><path clip-path=\"url(#clip090)\" d=\"M83.9086 831.202 L88.7928 831.202 L88.7928 837.082 L83.9086 837.082 L83.9086 831.202 Z\" fill=\"#000000\" fill-rule=\"evenodd\" fill-opacity=\"1\" /><path clip-path=\"url(#clip090)\" d=\"M108.978 805.6 Q105.367 805.6 103.538 809.165 Q101.733 812.707 101.733 819.836 Q101.733 826.943 103.538 830.508 Q105.367 834.049 108.978 834.049 Q112.612 834.049 114.418 830.508 Q116.246 826.943 116.246 819.836 Q116.246 812.707 114.418 809.165 Q112.612 805.6 108.978 805.6 M108.978 801.897 Q114.788 801.897 117.844 806.503 Q120.922 811.086 120.922 819.836 Q120.922 828.563 117.844 833.17 Q114.788 837.753 108.978 837.753 Q103.168 837.753 100.089 833.17 Q97.0335 828.563 97.0335 819.836 Q97.0335 811.086 100.089 806.503 Q103.168 801.897 108.978 801.897 Z\" fill=\"#000000\" fill-rule=\"evenodd\" fill-opacity=\"1\" /><path clip-path=\"url(#clip090)\" d=\"M68.9087 592.044 Q72.2652 592.762 74.1402 595.031 Q76.0383 597.299 76.0383 600.632 Q76.0383 605.748 72.5198 608.549 Q69.0013 611.35 62.5198 611.35 Q60.3439 611.35 58.0291 610.91 Q55.7375 610.493 53.2838 609.637 L53.2838 605.123 Q55.2282 606.257 57.543 606.836 Q59.8578 607.415 62.381 607.415 Q66.7791 607.415 69.0707 605.679 Q71.3855 603.942 71.3855 600.632 Q71.3855 597.577 69.2328 595.864 Q67.1032 594.128 63.2837 594.128 L59.256 594.128 L59.256 590.285 L63.4689 590.285 Q66.918 590.285 68.7467 588.919 Q70.5754 587.531 70.5754 584.938 Q70.5754 582.276 68.6772 580.864 Q66.8022 579.429 63.2837 579.429 Q61.3624 579.429 59.1634 579.845 Q56.9643 580.262 54.3254 581.142 L54.3254 576.975 Q56.9875 576.234 59.3023 575.864 Q61.6402 575.494 63.7004 575.494 Q69.0244 575.494 72.1263 577.924 Q75.2281 580.332 75.2281 584.452 Q75.2281 587.322 73.5846 589.313 Q71.9411 591.281 68.9087 592.044 Z\" fill=\"#000000\" fill-rule=\"evenodd\" fill-opacity=\"1\" /><path clip-path=\"url(#clip090)\" d=\"M84.904 604.799 L89.7882 604.799 L89.7882 610.679 L84.904 610.679 L84.904 604.799 Z\" fill=\"#000000\" fill-rule=\"evenodd\" fill-opacity=\"1\" /><path clip-path=\"url(#clip090)\" d=\"M100.02 576.119 L118.376 576.119 L118.376 580.054 L104.302 580.054 L104.302 588.526 Q105.321 588.179 106.339 588.017 Q107.358 587.831 108.376 587.831 Q114.163 587.831 117.543 591.003 Q120.922 594.174 120.922 599.591 Q120.922 605.169 117.45 608.271 Q113.978 611.35 107.658 611.35 Q105.483 611.35 103.214 610.979 Q100.969 610.609 98.5613 609.868 L98.5613 605.169 Q100.645 606.304 102.867 606.859 Q105.089 607.415 107.566 607.415 Q111.571 607.415 113.908 605.308 Q116.246 603.202 116.246 599.591 Q116.246 595.98 113.908 593.873 Q111.571 591.767 107.566 591.767 Q105.691 591.767 103.816 592.183 Q101.964 592.6 100.02 593.48 L100.02 576.119 Z\" fill=\"#000000\" fill-rule=\"evenodd\" fill-opacity=\"1\" /><path clip-path=\"url(#clip090)\" d=\"M66.5939 353.79 L54.7884 372.238 L66.5939 372.238 L66.5939 353.79 M65.367 349.715 L71.2466 349.715 L71.2466 372.238 L76.1772 372.238 L76.1772 376.127 L71.2466 376.127 L71.2466 384.275 L66.5939 384.275 L66.5939 376.127 L50.9921 376.127 L50.9921 371.613 L65.367 349.715 Z\" fill=\"#000000\" fill-rule=\"evenodd\" fill-opacity=\"1\" /><path clip-path=\"url(#clip090)\" d=\"M83.9086 378.396 L88.7928 378.396 L88.7928 384.275 L83.9086 384.275 L83.9086 378.396 Z\" fill=\"#000000\" fill-rule=\"evenodd\" fill-opacity=\"1\" /><path clip-path=\"url(#clip090)\" d=\"M108.978 352.794 Q105.367 352.794 103.538 356.359 Q101.733 359.901 101.733 367.03 Q101.733 374.137 103.538 377.701 Q105.367 381.243 108.978 381.243 Q112.612 381.243 114.418 377.701 Q116.246 374.137 116.246 367.03 Q116.246 359.901 114.418 356.359 Q112.612 352.794 108.978 352.794 M108.978 349.09 Q114.788 349.09 117.844 353.697 Q120.922 358.28 120.922 367.03 Q120.922 375.757 117.844 380.363 Q114.788 384.947 108.978 384.947 Q103.168 384.947 100.089 380.363 Q97.0335 375.757 97.0335 367.03 Q97.0335 358.28 100.089 353.697 Q103.168 349.09 108.978 349.09 Z\" fill=\"#000000\" fill-rule=\"evenodd\" fill-opacity=\"1\" /><path clip-path=\"url(#clip090)\" d=\"M67.5893 127.386 L55.7838 145.835 L67.5893 145.835 L67.5893 127.386 M66.3624 123.312 L72.242 123.312 L72.242 145.835 L77.1725 145.835 L77.1725 149.724 L72.242 149.724 L72.242 157.872 L67.5893 157.872 L67.5893 149.724 L51.9875 149.724 L51.9875 145.21 L66.3624 123.312 Z\" fill=\"#000000\" fill-rule=\"evenodd\" fill-opacity=\"1\" /><path clip-path=\"url(#clip090)\" d=\"M84.904 151.993 L89.7882 151.993 L89.7882 157.872 L84.904 157.872 L84.904 151.993 Z\" fill=\"#000000\" fill-rule=\"evenodd\" fill-opacity=\"1\" /><path clip-path=\"url(#clip090)\" d=\"M100.02 123.312 L118.376 123.312 L118.376 127.248 L104.302 127.248 L104.302 135.72 Q105.321 135.372 106.339 135.21 Q107.358 135.025 108.376 135.025 Q114.163 135.025 117.543 138.197 Q120.922 141.368 120.922 146.784 Q120.922 152.363 117.45 155.465 Q113.978 158.544 107.658 158.544 Q105.483 158.544 103.214 158.173 Q100.969 157.803 98.5613 157.062 L98.5613 152.363 Q100.645 153.497 102.867 154.053 Q105.089 154.608 107.566 154.608 Q111.571 154.608 113.908 152.502 Q116.246 150.396 116.246 146.784 Q116.246 143.173 113.908 141.067 Q111.571 138.96 107.566 138.96 Q105.691 138.96 103.816 139.377 Q101.964 139.794 100.02 140.673 L100.02 123.312 Z\" fill=\"#000000\" fill-rule=\"evenodd\" fill-opacity=\"1\" /><circle clip-path=\"url(#clip092)\" cx=\"1209.28\" cy=\"97.2588\" r=\"14\" fill=\"#009af9\" fill-rule=\"evenodd\" fill-opacity=\"1\" stroke=\"#000000\" stroke-opacity=\"1\" stroke-width=\"3.2\"/>\n<circle clip-path=\"url(#clip092)\" cx=\"1373.27\" cy=\"430.886\" r=\"14\" fill=\"#009af9\" fill-rule=\"evenodd\" fill-opacity=\"1\" stroke=\"#000000\" stroke-opacity=\"1\" stroke-width=\"3.2\"/>\n<circle clip-path=\"url(#clip092)\" cx=\"1743.85\" cy=\"111.115\" r=\"14\" fill=\"#009af9\" fill-rule=\"evenodd\" fill-opacity=\"1\" stroke=\"#000000\" stroke-opacity=\"1\" stroke-width=\"3.2\"/>\n<circle clip-path=\"url(#clip092)\" cx=\"1719.55\" cy=\"569.898\" r=\"14\" fill=\"#009af9\" fill-rule=\"evenodd\" fill-opacity=\"1\" stroke=\"#000000\" stroke-opacity=\"1\" stroke-width=\"3.2\"/>\n<circle clip-path=\"url(#clip092)\" cx=\"2059.76\" cy=\"885.006\" r=\"14\" fill=\"#009af9\" fill-rule=\"evenodd\" fill-opacity=\"1\" stroke=\"#000000\" stroke-opacity=\"1\" stroke-width=\"3.2\"/>\n<circle clip-path=\"url(#clip092)\" cx=\"2290.61\" cy=\"732.093\" r=\"14\" fill=\"#009af9\" fill-rule=\"evenodd\" fill-opacity=\"1\" stroke=\"#000000\" stroke-opacity=\"1\" stroke-width=\"3.2\"/>\n<circle clip-path=\"url(#clip092)\" cx=\"1956.51\" cy=\"625.503\" r=\"14\" fill=\"#009af9\" fill-rule=\"evenodd\" fill-opacity=\"1\" stroke=\"#000000\" stroke-opacity=\"1\" stroke-width=\"3.2\"/>\n<circle clip-path=\"url(#clip092)\" cx=\"2235.93\" cy=\"287.256\" r=\"14\" fill=\"#009af9\" fill-rule=\"evenodd\" fill-opacity=\"1\" stroke=\"#000000\" stroke-opacity=\"1\" stroke-width=\"3.2\"/>\n<circle clip-path=\"url(#clip092)\" cx=\"1640.56\" cy=\"347.48\" r=\"14\" fill=\"#009af9\" fill-rule=\"evenodd\" fill-opacity=\"1\" stroke=\"#000000\" stroke-opacity=\"1\" stroke-width=\"3.2\"/>\n<circle clip-path=\"url(#clip092)\" cx=\"1519.07\" cy=\"87.9763\" r=\"14\" fill=\"#009af9\" fill-rule=\"evenodd\" fill-opacity=\"1\" stroke=\"#000000\" stroke-opacity=\"1\" stroke-width=\"3.2\"/>\n<circle clip-path=\"url(#clip092)\" cx=\"1950.4\" cy=\"407.703\" r=\"14\" fill=\"#009af9\" fill-rule=\"evenodd\" fill-opacity=\"1\" stroke=\"#000000\" stroke-opacity=\"1\" stroke-width=\"3.2\"/>\n<circle clip-path=\"url(#clip092)\" cx=\"1810.66\" cy=\"787.698\" r=\"14\" fill=\"#009af9\" fill-rule=\"evenodd\" fill-opacity=\"1\" stroke=\"#000000\" stroke-opacity=\"1\" stroke-width=\"3.2\"/>\n<circle clip-path=\"url(#clip092)\" cx=\"1184.97\" cy=\"342.816\" r=\"14\" fill=\"#009af9\" fill-rule=\"evenodd\" fill-opacity=\"1\" stroke=\"#000000\" stroke-opacity=\"1\" stroke-width=\"3.2\"/>\n<circle clip-path=\"url(#clip092)\" cx=\"1367.21\" cy=\"199.185\" r=\"14\" fill=\"#009af9\" fill-rule=\"evenodd\" fill-opacity=\"1\" stroke=\"#000000\" stroke-opacity=\"1\" stroke-width=\"3.2\"/>\n<circle clip-path=\"url(#clip092)\" cx=\"1573.75\" cy=\"593.036\" r=\"14\" fill=\"#009af9\" fill-rule=\"evenodd\" fill-opacity=\"1\" stroke=\"#000000\" stroke-opacity=\"1\" stroke-width=\"3.2\"/>\n<circle clip-path=\"url(#clip092)\" cx=\"1853.22\" cy=\"236.225\" r=\"14\" fill=\"#009af9\" fill-rule=\"evenodd\" fill-opacity=\"1\" stroke=\"#000000\" stroke-opacity=\"1\" stroke-width=\"3.2\"/>\n<circle clip-path=\"url(#clip092)\" cx=\"2102.31\" cy=\"426.223\" r=\"14\" fill=\"#009af9\" fill-rule=\"evenodd\" fill-opacity=\"1\" stroke=\"#000000\" stroke-opacity=\"1\" stroke-width=\"3.2\"/>\n<circle clip-path=\"url(#clip092)\" cx=\"2235.93\" cy=\"625.503\" r=\"14\" fill=\"#009af9\" fill-rule=\"evenodd\" fill-opacity=\"1\" stroke=\"#000000\" stroke-opacity=\"1\" stroke-width=\"3.2\"/>\n<circle clip-path=\"url(#clip092)\" cx=\"2071.89\" cy=\"764.514\" r=\"14\" fill=\"#009af9\" fill-rule=\"evenodd\" fill-opacity=\"1\" stroke=\"#000000\" stroke-opacity=\"1\" stroke-width=\"3.2\"/>\n<circle clip-path=\"url(#clip092)\" cx=\"1774.23\" cy=\"676.489\" r=\"14\" fill=\"#009af9\" fill-rule=\"evenodd\" fill-opacity=\"1\" stroke=\"#000000\" stroke-opacity=\"1\" stroke-width=\"3.2\"/>\n<circle clip-path=\"url(#clip092)\" cx=\"1008.8\" cy=\"657.923\" r=\"14\" fill=\"#009af9\" fill-rule=\"evenodd\" fill-opacity=\"1\" stroke=\"#000000\" stroke-opacity=\"1\" stroke-width=\"3.2\"/>\n<circle clip-path=\"url(#clip092)\" cx=\"1233.53\" cy=\"727.474\" r=\"14\" fill=\"#009af9\" fill-rule=\"evenodd\" fill-opacity=\"1\" stroke=\"#000000\" stroke-opacity=\"1\" stroke-width=\"3.2\"/>\n<circle clip-path=\"url(#clip092)\" cx=\"1203.16\" cy=\"917.472\" r=\"14\" fill=\"#009af9\" fill-rule=\"evenodd\" fill-opacity=\"1\" stroke=\"#000000\" stroke-opacity=\"1\" stroke-width=\"3.2\"/>\n<circle clip-path=\"url(#clip092)\" cx=\"1373.27\" cy=\"949.893\" r=\"14\" fill=\"#009af9\" fill-rule=\"evenodd\" fill-opacity=\"1\" stroke=\"#000000\" stroke-opacity=\"1\" stroke-width=\"3.2\"/>\n<circle clip-path=\"url(#clip092)\" cx=\"1391.51\" cy=\"838.638\" r=\"14\" fill=\"#009af9\" fill-rule=\"evenodd\" fill-opacity=\"1\" stroke=\"#000000\" stroke-opacity=\"1\" stroke-width=\"3.2\"/>\n<circle clip-path=\"url(#clip092)\" cx=\"1664.86\" cy=\"986.932\" r=\"14\" fill=\"#009af9\" fill-rule=\"evenodd\" fill-opacity=\"1\" stroke=\"#000000\" stroke-opacity=\"1\" stroke-width=\"3.2\"/>\n<circle clip-path=\"url(#clip092)\" cx=\"1780.34\" cy=\"1139.89\" r=\"14\" fill=\"#009af9\" fill-rule=\"evenodd\" fill-opacity=\"1\" stroke=\"#000000\" stroke-opacity=\"1\" stroke-width=\"3.2\"/>\n<circle clip-path=\"url(#clip092)\" cx=\"1482.63\" cy=\"1255.72\" r=\"14\" fill=\"#009af9\" fill-rule=\"evenodd\" fill-opacity=\"1\" stroke=\"#000000\" stroke-opacity=\"1\" stroke-width=\"3.2\"/>\n<circle clip-path=\"url(#clip092)\" cx=\"1494.76\" cy=\"1098.14\" r=\"14\" fill=\"#009af9\" fill-rule=\"evenodd\" fill-opacity=\"1\" stroke=\"#000000\" stroke-opacity=\"1\" stroke-width=\"3.2\"/>\n<circle clip-path=\"url(#clip092)\" cx=\"1160.66\" cy=\"1246.48\" r=\"14\" fill=\"#009af9\" fill-rule=\"evenodd\" fill-opacity=\"1\" stroke=\"#000000\" stroke-opacity=\"1\" stroke-width=\"3.2\"/>\n<circle clip-path=\"url(#clip092)\" cx=\"1233.53\" cy=\"1112.04\" r=\"14\" fill=\"#009af9\" fill-rule=\"evenodd\" fill-opacity=\"1\" stroke=\"#000000\" stroke-opacity=\"1\" stroke-width=\"3.2\"/>\n<circle clip-path=\"url(#clip092)\" cx=\"820.45\" cy=\"1125.94\" r=\"14\" fill=\"#009af9\" fill-rule=\"evenodd\" fill-opacity=\"1\" stroke=\"#000000\" stroke-opacity=\"1\" stroke-width=\"3.2\"/>\n<circle clip-path=\"url(#clip092)\" cx=\"1172.79\" cy=\"857.203\" r=\"14\" fill=\"#009af9\" fill-rule=\"evenodd\" fill-opacity=\"1\" stroke=\"#000000\" stroke-opacity=\"1\" stroke-width=\"3.2\"/>\n<circle clip-path=\"url(#clip092)\" cx=\"996.62\" cy=\"787.698\" r=\"14\" fill=\"#009af9\" fill-rule=\"evenodd\" fill-opacity=\"1\" stroke=\"#000000\" stroke-opacity=\"1\" stroke-width=\"3.2\"/>\n<circle clip-path=\"url(#clip092)\" cx=\"990.556\" cy=\"959.13\" r=\"14\" fill=\"#009af9\" fill-rule=\"evenodd\" fill-opacity=\"1\" stroke=\"#000000\" stroke-opacity=\"1\" stroke-width=\"3.2\"/>\n<circle clip-path=\"url(#clip092)\" cx=\"1063.48\" cy=\"1088.9\" r=\"14\" fill=\"#009af9\" fill-rule=\"evenodd\" fill-opacity=\"1\" stroke=\"#000000\" stroke-opacity=\"1\" stroke-width=\"3.2\"/>\n<circle clip-path=\"url(#clip092)\" cx=\"960.184\" cy=\"1260.34\" r=\"14\" fill=\"#009af9\" fill-rule=\"evenodd\" fill-opacity=\"1\" stroke=\"#000000\" stroke-opacity=\"1\" stroke-width=\"3.2\"/>\n<circle clip-path=\"url(#clip092)\" cx=\"680.768\" cy=\"963.794\" r=\"14\" fill=\"#009af9\" fill-rule=\"evenodd\" fill-opacity=\"1\" stroke=\"#000000\" stroke-opacity=\"1\" stroke-width=\"3.2\"/>\n<circle clip-path=\"url(#clip092)\" cx=\"790.077\" cy=\"852.585\" r=\"14\" fill=\"#009af9\" fill-rule=\"evenodd\" fill-opacity=\"1\" stroke=\"#000000\" stroke-opacity=\"1\" stroke-width=\"3.2\"/>\n<circle clip-path=\"url(#clip092)\" cx=\"601.779\" cy=\"820.164\" r=\"14\" fill=\"#009af9\" fill-rule=\"evenodd\" fill-opacity=\"1\" stroke=\"#000000\" stroke-opacity=\"1\" stroke-width=\"3.2\"/>\n<circle clip-path=\"url(#clip092)\" cx=\"686.832\" cy=\"644.068\" r=\"14\" fill=\"#009af9\" fill-rule=\"evenodd\" fill-opacity=\"1\" stroke=\"#000000\" stroke-opacity=\"1\" stroke-width=\"3.2\"/>\n<circle clip-path=\"url(#clip092)\" cx=\"832.63\" cy=\"732.093\" r=\"14\" fill=\"#009af9\" fill-rule=\"evenodd\" fill-opacity=\"1\" stroke=\"#000000\" stroke-opacity=\"1\" stroke-width=\"3.2\"/>\n<circle clip-path=\"url(#clip092)\" cx=\"869.066\" cy=\"588.463\" r=\"14\" fill=\"#009af9\" fill-rule=\"evenodd\" fill-opacity=\"1\" stroke=\"#000000\" stroke-opacity=\"1\" stroke-width=\"3.2\"/>\n<circle clip-path=\"url(#clip092)\" cx=\"1348.96\" cy=\"1181.59\" r=\"14\" fill=\"#009af9\" fill-rule=\"evenodd\" fill-opacity=\"1\" stroke=\"#000000\" stroke-opacity=\"1\" stroke-width=\"3.2\"/>\n<circle clip-path=\"url(#clip092)\" cx=\"1464.44\" cy=\"982.314\" r=\"14\" fill=\"#009af9\" fill-rule=\"evenodd\" fill-opacity=\"1\" stroke=\"#000000\" stroke-opacity=\"1\" stroke-width=\"3.2\"/>\n<circle clip-path=\"url(#clip092)\" cx=\"1646.67\" cy=\"1288.18\" r=\"14\" fill=\"#009af9\" fill-rule=\"evenodd\" fill-opacity=\"1\" stroke=\"#000000\" stroke-opacity=\"1\" stroke-width=\"3.2\"/>\n<circle clip-path=\"url(#clip092)\" cx=\"1276.09\" cy=\"1445.72\" r=\"14\" fill=\"#009af9\" fill-rule=\"evenodd\" fill-opacity=\"1\" stroke=\"#000000\" stroke-opacity=\"1\" stroke-width=\"3.2\"/>\n<circle clip-path=\"url(#clip092)\" cx=\"1513\" cy=\"871.105\" r=\"14\" fill=\"#009af9\" fill-rule=\"evenodd\" fill-opacity=\"1\" stroke=\"#000000\" stroke-opacity=\"1\" stroke-width=\"3.2\"/>\n<circle clip-path=\"url(#clip092)\" cx=\"650.396\" cy=\"810.836\" r=\"14\" fill=\"#009af9\" fill-rule=\"evenodd\" fill-opacity=\"1\" stroke=\"#000000\" stroke-opacity=\"1\" stroke-width=\"3.2\"/>\n<circle clip-path=\"url(#clip092)\" cx=\"577.497\" cy=\"1005.5\" r=\"14\" fill=\"#009af9\" fill-rule=\"evenodd\" fill-opacity=\"1\" stroke=\"#000000\" stroke-opacity=\"1\" stroke-width=\"3.2\"/>\n<circle clip-path=\"url(#clip092)\" cx=\"219.069\" cy=\"319.677\" r=\"14\" fill=\"#009af9\" fill-rule=\"evenodd\" fill-opacity=\"1\" stroke=\"#000000\" stroke-opacity=\"1\" stroke-width=\"3.2\"/>\n<path clip-path=\"url(#clip090)\" d=\"\nM1772.8 198.898 L2279.56 198.898 L2279.56 95.2176 L1772.8 95.2176  Z\n  \" fill=\"#ffffff\" fill-rule=\"evenodd\" fill-opacity=\"1\"/>\n<polyline clip-path=\"url(#clip090)\" style=\"stroke:#000000; stroke-linecap:butt; stroke-linejoin:round; stroke-width:4; stroke-opacity:1; fill:none\" points=\"\n  1772.8,198.898 2279.56,198.898 2279.56,95.2176 1772.8,95.2176 1772.8,198.898 \n  \"/>\n<circle clip-path=\"url(#clip090)\" cx=\"1870.4\" cy=\"147.058\" r=\"23\" fill=\"#009af9\" fill-rule=\"evenodd\" fill-opacity=\"1\" stroke=\"#000000\" stroke-opacity=\"1\" stroke-width=\"5.12\"/>\n<path clip-path=\"url(#clip090)\" d=\"M1973.61 160.402 L1989.93 160.402 L1989.93 164.338 L1967.99 164.338 L1967.99 160.402 Q1970.65 157.648 1975.23 153.018 Q1979.84 148.365 1981.02 147.023 Q1983.27 144.5 1984.15 142.764 Q1985.05 141.004 1985.05 139.315 Q1985.05 136.56 1983.1 134.824 Q1981.18 133.088 1978.08 133.088 Q1975.88 133.088 1973.43 133.852 Q1971 134.615 1968.22 136.166 L1968.22 131.444 Q1971.04 130.31 1973.5 129.731 Q1975.95 129.153 1977.99 129.153 Q1983.36 129.153 1986.55 131.838 Q1989.75 134.523 1989.75 139.014 Q1989.75 141.143 1988.94 143.065 Q1988.15 144.963 1986.04 147.555 Q1985.47 148.227 1982.36 151.444 Q1979.26 154.639 1973.61 160.402 Z\" fill=\"#000000\" fill-rule=\"evenodd\" fill-opacity=\"1\" /><path clip-path=\"url(#clip090)\" d=\"M2004.01 133.62 L2004.01 160.495 L2009.66 160.495 Q2016.81 160.495 2020.12 157.254 Q2023.45 154.014 2023.45 147.023 Q2023.45 140.078 2020.12 136.861 Q2016.81 133.62 2009.66 133.62 L2004.01 133.62 M1999.33 129.778 L2008.94 129.778 Q2018.98 129.778 2023.68 133.967 Q2028.38 138.134 2028.38 147.023 Q2028.38 155.958 2023.66 160.148 Q2018.94 164.338 2008.94 164.338 L1999.33 164.338 L1999.33 129.778 Z\" fill=\"#000000\" fill-rule=\"evenodd\" fill-opacity=\"1\" /><path clip-path=\"url(#clip090)\" d=\"M2055.58 133.62 L2055.58 160.495 L2061.23 160.495 Q2068.38 160.495 2071.69 157.254 Q2075.03 154.014 2075.03 147.023 Q2075.03 140.078 2071.69 136.861 Q2068.38 133.62 2061.23 133.62 L2055.58 133.62 M2050.91 129.778 L2060.51 129.778 Q2070.56 129.778 2075.26 133.967 Q2079.96 138.134 2079.96 147.023 Q2079.96 155.958 2075.23 160.148 Q2070.51 164.338 2060.51 164.338 L2050.91 164.338 L2050.91 129.778 Z\" fill=\"#000000\" fill-rule=\"evenodd\" fill-opacity=\"1\" /><path clip-path=\"url(#clip090)\" d=\"M2099.01 151.305 Q2093.84 151.305 2091.85 152.486 Q2089.86 153.666 2089.86 156.514 Q2089.86 158.782 2091.34 160.125 Q2092.85 161.444 2095.42 161.444 Q2098.96 161.444 2101.09 158.944 Q2103.24 156.421 2103.24 152.254 L2103.24 151.305 L2099.01 151.305 M2107.5 149.546 L2107.5 164.338 L2103.24 164.338 L2103.24 160.402 Q2101.78 162.763 2099.61 163.898 Q2097.43 165.009 2094.28 165.009 Q2090.3 165.009 2087.94 162.787 Q2085.6 160.541 2085.6 156.791 Q2085.6 152.416 2088.52 150.194 Q2091.46 147.972 2097.27 147.972 L2103.24 147.972 L2103.24 147.555 Q2103.24 144.615 2101.3 143.018 Q2099.38 141.398 2095.88 141.398 Q2093.66 141.398 2091.55 141.93 Q2089.45 142.463 2087.5 143.527 L2087.5 139.592 Q2089.84 138.69 2092.04 138.25 Q2094.24 137.787 2096.32 137.787 Q2101.95 137.787 2104.72 140.703 Q2107.5 143.62 2107.5 149.546 Z\" fill=\"#000000\" fill-rule=\"evenodd\" fill-opacity=\"1\" /><path clip-path=\"url(#clip090)\" d=\"M2120.49 131.051 L2120.49 138.412 L2129.26 138.412 L2129.26 141.722 L2120.49 141.722 L2120.49 155.796 Q2120.49 158.967 2121.34 159.87 Q2122.22 160.773 2124.89 160.773 L2129.26 160.773 L2129.26 164.338 L2124.89 164.338 Q2119.96 164.338 2118.08 162.509 Q2116.21 160.657 2116.21 155.796 L2116.21 141.722 L2113.08 141.722 L2113.08 138.412 L2116.21 138.412 L2116.21 131.051 L2120.49 131.051 Z\" fill=\"#000000\" fill-rule=\"evenodd\" fill-opacity=\"1\" /><path clip-path=\"url(#clip090)\" d=\"M2146.65 151.305 Q2141.48 151.305 2139.49 152.486 Q2137.5 153.666 2137.5 156.514 Q2137.5 158.782 2138.98 160.125 Q2140.49 161.444 2143.06 161.444 Q2146.6 161.444 2148.73 158.944 Q2150.88 156.421 2150.88 152.254 L2150.88 151.305 L2146.65 151.305 M2155.14 149.546 L2155.14 164.338 L2150.88 164.338 L2150.88 160.402 Q2149.42 162.763 2147.25 163.898 Q2145.07 165.009 2141.92 165.009 Q2137.94 165.009 2135.58 162.787 Q2133.24 160.541 2133.24 156.791 Q2133.24 152.416 2136.16 150.194 Q2139.1 147.972 2144.91 147.972 L2150.88 147.972 L2150.88 147.555 Q2150.88 144.615 2148.94 143.018 Q2147.02 141.398 2143.52 141.398 Q2141.3 141.398 2139.19 141.93 Q2137.09 142.463 2135.14 143.527 L2135.14 139.592 Q2137.48 138.69 2139.68 138.25 Q2141.88 137.787 2143.96 137.787 Q2149.59 137.787 2152.36 140.703 Q2155.14 143.62 2155.14 149.546 Z\" fill=\"#000000\" fill-rule=\"evenodd\" fill-opacity=\"1\" /><path clip-path=\"url(#clip090)\" d=\"M2180.44 139.176 L2180.44 143.203 Q2178.64 142.277 2176.69 141.815 Q2174.75 141.352 2172.66 141.352 Q2169.49 141.352 2167.9 142.324 Q2166.32 143.296 2166.32 145.24 Q2166.32 146.722 2167.46 147.578 Q2168.59 148.412 2172.02 149.176 L2173.47 149.5 Q2178.01 150.472 2179.91 152.254 Q2181.83 154.014 2181.83 157.185 Q2181.83 160.796 2178.96 162.902 Q2176.11 165.009 2171.11 165.009 Q2169.03 165.009 2166.76 164.592 Q2164.52 164.199 2162.02 163.388 L2162.02 158.99 Q2164.38 160.217 2166.67 160.842 Q2168.96 161.444 2171.21 161.444 Q2174.21 161.444 2175.83 160.426 Q2177.46 159.384 2177.46 157.509 Q2177.46 155.773 2176.27 154.847 Q2175.12 153.921 2171.16 153.064 L2169.68 152.717 Q2165.72 151.884 2163.96 150.171 Q2162.2 148.435 2162.2 145.426 Q2162.2 141.768 2164.79 139.778 Q2167.39 137.787 2172.15 137.787 Q2174.52 137.787 2176.6 138.134 Q2178.68 138.481 2180.44 139.176 Z\" fill=\"#000000\" fill-rule=\"evenodd\" fill-opacity=\"1\" /><path clip-path=\"url(#clip090)\" d=\"M2210.79 150.31 L2210.79 152.393 L2191.21 152.393 Q2191.48 156.791 2193.84 159.106 Q2196.23 161.398 2200.46 161.398 Q2202.92 161.398 2205.21 160.796 Q2207.52 160.194 2209.79 158.99 L2209.79 163.018 Q2207.5 163.99 2205.09 164.5 Q2202.69 165.009 2200.21 165.009 Q2194.01 165.009 2190.37 161.398 Q2186.76 157.787 2186.76 151.629 Q2186.76 145.264 2190.19 141.537 Q2193.64 137.787 2199.47 137.787 Q2204.7 137.787 2207.73 141.166 Q2210.79 144.523 2210.79 150.31 M2206.53 149.06 Q2206.48 145.565 2204.56 143.481 Q2202.66 141.398 2199.52 141.398 Q2195.95 141.398 2193.8 143.412 Q2191.67 145.426 2191.34 149.083 L2206.53 149.06 Z\" fill=\"#000000\" fill-rule=\"evenodd\" fill-opacity=\"1\" /><path clip-path=\"url(#clip090)\" d=\"M2221.99 131.051 L2221.99 138.412 L2230.77 138.412 L2230.77 141.722 L2221.99 141.722 L2221.99 155.796 Q2221.99 158.967 2222.85 159.87 Q2223.73 160.773 2226.39 160.773 L2230.77 160.773 L2230.77 164.338 L2226.39 164.338 Q2221.46 164.338 2219.58 162.509 Q2217.71 160.657 2217.71 155.796 L2217.71 141.722 L2214.58 141.722 L2214.58 138.412 L2217.71 138.412 L2217.71 131.051 L2221.99 131.051 Z\" fill=\"#000000\" fill-rule=\"evenodd\" fill-opacity=\"1\" /></svg>\n"
     },
     "execution_count": 2,
     "metadata": {},
     "output_type": "execute_result"
    }
   ],
   "source": [
    "# Loading the training dataset\n",
    "vars = matread(\"ex6data1.mat\");\n",
    "X = vars[\"X\"];\n",
    "Y = vars[\"y\"];\n",
    "scatter(X[:,1],X[:,2], label=\"2D Dataset\")"
   ]
  },
  {
   "cell_type": "code",
   "execution_count": 10,
   "id": "7aea1887",
   "metadata": {},
   "outputs": [
    {
     "data": {
      "text/plain": [
       "51×2 Matrix{Float64}:\n",
       " 1.9643    4.5957\n",
       " 2.2753    3.8589\n",
       " 2.9781    4.5651\n",
       " 2.932     3.5519\n",
       " 3.5772    2.856\n",
       " 4.015     3.1937\n",
       " 3.3814    3.4291\n",
       " 3.9113    4.1761\n",
       " 2.7822    4.0431\n",
       " 2.5518    4.6162\n",
       " 3.3698    3.9101\n",
       " 3.1048    3.0709\n",
       " 1.9182    4.0534\n",
       " ⋮         \n",
       " 0.8122    2.9992\n",
       " 0.9735    3.3881\n",
       " 1.25      3.1937\n",
       " 1.3191    3.5109\n",
       " 2.2292    2.201\n",
       " 2.4482    2.6411\n",
       " 2.7938    1.9656\n",
       " 2.091     1.6177\n",
       " 2.5403    2.8867\n",
       " 0.9044    3.0198\n",
       " 0.76615   2.5899\n",
       " 0.086405  4.1045"
      ]
     },
     "execution_count": 10,
     "metadata": {},
     "output_type": "execute_result"
    }
   ],
   "source": [
    "X"
   ]
  },
  {
   "cell_type": "code",
   "execution_count": 11,
   "id": "969bc9f4",
   "metadata": {},
   "outputs": [
    {
     "data": {
      "text/plain": [
       "51×1 Matrix{Float64}:\n",
       " 1.0\n",
       " 1.0\n",
       " 1.0\n",
       " 1.0\n",
       " 1.0\n",
       " 1.0\n",
       " 1.0\n",
       " 1.0\n",
       " 1.0\n",
       " 1.0\n",
       " 1.0\n",
       " 1.0\n",
       " 1.0\n",
       " ⋮\n",
       " 0.0\n",
       " 0.0\n",
       " 0.0\n",
       " 0.0\n",
       " 0.0\n",
       " 0.0\n",
       " 0.0\n",
       " 0.0\n",
       " 0.0\n",
       " 0.0\n",
       " 0.0\n",
       " 1.0"
      ]
     },
     "execution_count": 11,
     "metadata": {},
     "output_type": "execute_result"
    }
   ],
   "source": [
    "Y"
   ]
  },
  {
   "cell_type": "code",
   "execution_count": 13,
   "id": "b379a8f7",
   "metadata": {},
   "outputs": [
    {
     "name": "stdout",
     "output_type": "stream",
     "text": [
      "0.0"
     ]
    },
    {
     "ename": "LoadError",
     "evalue": "MethodError: objects of type Matrix{Float64} are not callable\nUse square brackets [] for indexing an Array.",
     "output_type": "error",
     "traceback": [
      "MethodError: objects of type Matrix{Float64} are not callable\nUse square brackets [] for indexing an Array.",
      "",
      "Stacktrace:",
      " [1] top-level scope",
      "   @ .\\In[13]:25",
      " [2] eval",
      "   @ .\\boot.jl:360 [inlined]",
      " [3] include_string(mapexpr::typeof(REPL.softscope), mod::Module, code::String, filename::String)",
      "   @ Base .\\loading.jl:1116"
     ]
    },
    {
     "name": "stdout",
     "output_type": "stream",
     "text": [
      "\n"
     ]
    }
   ],
   "source": [
    "# Training the model\n",
    "e = 1e-3\n",
    "max_passes = 5\n",
    "m = size(X, 1)\n",
    "n = size(X, 2)\n",
    "\n",
    "\n",
    "alphas = zeros(m, 1);\n",
    "b = 0;\n",
    "E = zeros(m, 1);\n",
    "passes = 0;\n",
    "eta = 0;\n",
    "L = 0;\n",
    "H = 0;\n",
    "\n",
    "K = X*X';\n",
    "dots = 12;\n",
    "\n",
    "dots = 12;\n",
    "while passes < max_passes\n",
    "            \n",
    "    num_changed_alphas = 0;\n",
    "    for i = 1:m\n",
    "        println(E[i]);\n",
    "        E[i] = b + sum(alphas.*Y.*K(:,i)) - Y[i];\n",
    "        \n",
    "        if ((Y[i]*E[i] < -tol && alphas[i] < C) || (Y[i]*E[i] > tol && alphas[i] > 0))\n",
    "            \n",
    "\n",
    "            j = ceil(m * rand());\n",
    "            while j == i \n",
    "                j = ceil(m * rand());\n",
    "            end\n",
    "\n",
    "            E[j] = b + sum(alphas.*Y.*K(:,j)) - Y[j];\n",
    "\n",
    "            alpha_i_old = alphas[i];\n",
    "            alpha_j_old = alphas[j];\n",
    "            \n",
    "            if (Y[i] == Y[j])\n",
    "                L = max(0, alphas[j] + alphas[i] - C);\n",
    "                H = min(C, alphas[j] + alphas[i]);\n",
    "            else\n",
    "                L = max(0, alphas[j] - alphas[i]);\n",
    "                H = min(C, C + alphas[j] - alphas[i]);\n",
    "            end\n",
    "           \n",
    "            if (L == H)\n",
    "                continue;\n",
    "            end\n",
    "\n",
    "          \n",
    "            eta = 2 * K(i,j) - K(i,i) - K(j,j);\n",
    "            if (eta >= 0)\n",
    "                continue;\n",
    "            end\n",
    "            \n",
    "            alphas[j] = alphas[j] - (Y[j] * (E[i] - E[j])) / eta;\n",
    "            \n",
    "            alphas[j] = min(H, alphas[j]);\n",
    "            alphas[j] = max(L, alphas[j]);\n",
    "            \n",
    "            if (abs(alphas[j] - alpha_j_old) < tol)\n",
    "                alphas[j] = alpha_j_old;\n",
    "                continue;\n",
    "            end\n",
    "            \n",
    "            alphas[i] = alphas[i] + Y[i]*Y[j]*(alpha_j_old - alphas[j]);\n",
    "            \n",
    "            b1 = b - E[i] - Y[i] * (alphas[i] - alpha_i_old) *  K(i,j)' - Y[j] * (alphas[j] - alpha_j_old) *  K(i,j)';\n",
    "            b2 = b - E[j] - Y[i] * (alphas[i] - alpha_i_old) *  K(i,j)' - Y[j] * (alphas[j] - alpha_j_old) *  K(j,j)';\n",
    "\n",
    "            if (0 < alphas[i] && alphas[i] < C)\n",
    "                b = b1;\n",
    "            elseif (0 < alphas[j] && alphas[j] < C)\n",
    "                b = b2;\n",
    "            else\n",
    "                b = (b1+b2)/2;\n",
    "            end\n",
    "\n",
    "            num_changed_alphas = num_changed_alphas + 1;\n",
    "\n",
    "        end\n",
    "        \n",
    "    end\n",
    "   if (num_changed_alphas == 0)\n",
    "        passes = passes + 1;\n",
    "    else\n",
    "        passes = 0;\n",
    "    end\n",
    "\n",
    "    fprintf('.');\n",
    "    dots = dots + 1;\n",
    "    if dots > 78\n",
    "        dots = 0;\n",
    "        fprintf('\\n');\n",
    "    end\n",
    "    if exist(\"OCTAVE_VERSION\")\n",
    "        fflush(stdout);\n",
    "    end\n",
    "end\n",
    "\n",
    "idx = alphas > 0;\n",
    "model.X= X(idx,:);\n",
    "model.y= Y(idx);\n",
    "model.kernelFunction = kernelFunction;\n",
    "model.b= b;\n",
    "model.alphas= alphas(idx);\n",
    "model.w = ((alphas.*Y)'*X)';\n",
    "\n",
    "end"
   ]
  },
  {
   "cell_type": "code",
   "execution_count": 49,
   "id": "79935eda",
   "metadata": {},
   "outputs": [
    {
     "name": "stdout",
     "output_type": "stream",
     "text": [
      "\n",
      "Training ...\n",
      ".\n",
      ".\n",
      ".\n",
      ".\n",
      ".\n",
      " Done! \n",
      "\n",
      "\n"
     ]
    },
    {
     "data": {
      "text/plain": [
       "2×1 adjoint(::Matrix{Float64}) with eltype Float64:\n",
       " 0.0\n",
       " 0.0"
      ]
     },
     "execution_count": 49,
     "metadata": {},
     "output_type": "execute_result"
    }
   ],
   "source": [
    "tol = 1e-3\n",
    "max_passes = 5\n",
    "C = 1\n",
    "\n",
    "\n",
    "# Data parameters\n",
    "m = size(X, 1)\n",
    "n = size(X, 2)\n",
    "\n",
    "# Map 0 to -1\n",
    "# Y[Y==0] = -1\n",
    "\n",
    "# Variables\n",
    "alphas = zeros(m, 1)\n",
    "b = 0\n",
    "E = zeros(m, 1)\n",
    "passes = 0\n",
    "eta = 0\n",
    "L = 0\n",
    "H = 0\n",
    "\n",
    "# Pre-compute the Kernel Matrix since our dataset is small\n",
    "# (in practice, optimized SVM packages that handle large datasets\n",
    "#  gracefully will _not_ do this)\n",
    "# \n",
    "# We have implemented optimized vectorized version of the Kernels here so\n",
    "# that the svm training will run faster.\n",
    "\n",
    "K = X*X'\n",
    "\n",
    "\n",
    "# Train\n",
    "println(\"\\nTraining ...\")\n",
    "dots = 12\n",
    "while passes .< max_passes\n",
    "            \n",
    "    num_changed_alphas = 0\n",
    "    for i = 1:m\n",
    "        \n",
    "        # Calculate Ei = f[x[i]] - y[i] using [2]. \n",
    "        # E[i] = b + sum (X[i, :] * (repeat(alphas.*Y,1,n).*X)') - Y[i]\n",
    "        E[i] = b + sum(alphas.*Y.*K[:,i]) - Y[i]\n",
    "        \n",
    "        if ((Y[i]*E[i] < -tol && alphas[i] .< C) || (Y[i]*E[i] > tol && alphas[i] .> 0))\n",
    "            \n",
    "            # In practice; there are many heuristics one can use to select\n",
    "            # the i & j. In this simplified code; we select them randomly.\n",
    "            j = ceil(m * rand())\n",
    "            while j .== i;  # Make sure i \\neq j\n",
    "                j = ceil(m * rand())\n",
    "            end\n",
    "            j = convert(Int64, round(j, digits=0))\n",
    "            \n",
    "            # Calculate Ej = f[x[j]] - y[j] using [2].\n",
    "            E[j] = b + sum(alphas.*Y.*K[:,j]) - Y[j]\n",
    "\n",
    "            # Save old alphas\n",
    "            alpha_i_old = alphas[i]\n",
    "            alpha_j_old = alphas[j]\n",
    "            \n",
    "            # Compute L & H by [10] | [11]. \n",
    "            if (Y[i] .== Y[j])\n",
    "                L = max(0, alphas[j] + alphas[i] - C)\n",
    "                H = min(C, alphas[j] + alphas[i])\n",
    "            else()\n",
    "                L = max(0, alphas[j] - alphas[i])\n",
    "                H = min(C, C + alphas[j] - alphas[i])\n",
    "            end\n",
    "           \n",
    "            if (L .== H)\n",
    "                # continue to next i. \n",
    "                continue\n",
    "            end\n",
    "\n",
    "            # Compute eta by [14].\n",
    "            eta = 2 * K[i,j] - K[i,i] - K[j,j]\n",
    "            if (eta >= 0)\n",
    "                # continue to next i. \n",
    "                continue\n",
    "            end\n",
    "            \n",
    "            # Compute and clip new value for alpha j using [12] & [15].\n",
    "            alphas[j] = alphas[j] - (Y[j] * (E[i] - E[j])) / eta\n",
    "            \n",
    "            # Clip\n",
    "            alphas[j] = min(H, alphas[j])\n",
    "            alphas[j] = max(L, alphas[j])\n",
    "            \n",
    "            # Check if change in alpha is significant\n",
    "            if (abs(alphas[j] - alpha_j_old) .< tol)\n",
    "                # continue to next i. \n",
    "                # replace anyway\n",
    "                alphas[j] = alpha_j_old\n",
    "                continue\n",
    "            end\n",
    "            \n",
    "            # Determine value for alpha i using [16]. \n",
    "            alphas[i] = alphas[i] + Y[i]*Y[j]*(alpha_j_old - alphas[j])\n",
    "            \n",
    "            # Compute b1 and b2 using [17] & [18] respectively. \n",
    "            b1 = b - E[i] - Y[i] * (alphas[i] - alpha_i_old) *  K[i,j]' - Y[j] * (alphas[j] - alpha_j_old) *  K[i,j]'\n",
    "            b2 = b - E[j] - Y[i] * (alphas[i] - alpha_i_old) *  K[i,j]' - Y[j] * (alphas[j] - alpha_j_old) *  K[j,j]'\n",
    "\n",
    "            # Compute b by [19]. \n",
    "            if (0 < alphas[i] && alphas[i] .< C)\n",
    "                b = b1\n",
    "            elseif [0 < alphas[j] && alphas[j] .< C]\n",
    "                b = b2\n",
    "            else()\n",
    "                b = (b1+b2)/2\n",
    "            end\n",
    "\n",
    "            num_changed_alphas = num_changed_alphas + 1\n",
    "\n",
    "        end\n",
    "        \n",
    "    end\n",
    "    \n",
    "    if (num_changed_alphas .== 0)\n",
    "        passes = passes + 1\n",
    "    else()\n",
    "        passes = 0\n",
    "    end\n",
    "\n",
    "    println(\".\")\n",
    "    dots = dots + 1\n",
    "    if dots .> 78\n",
    "        dots = 0\n",
    "        println(\"\\n\")\n",
    "    end\n",
    "end\n",
    "println(\" Done! \\n\\n\")\n",
    "\n",
    "# Save the model\n",
    "idx = alphas .> 0\n",
    "modelX= X[idx,:]\n",
    "modely= Y[idx]\n",
    "modelkernelFunction = \"linear\"\n",
    "modelb= b\n",
    "modelalphas= alphas[idx]\n",
    "modelw = ((alphas.*Y)'*X)'\n",
    "\n"
   ]
  },
  {
   "cell_type": "code",
   "execution_count": 105,
   "id": "693c8c31",
   "metadata": {},
   "outputs": [
    {
     "data": {
      "text/plain": [
       "visualizeBoundaryLinear (generic function with 1 method)"
      ]
     },
     "execution_count": 105,
     "metadata": {},
     "output_type": "execute_result"
    }
   ],
   "source": [
    "function pred(modelw, modelb, X)\n",
    "    if (size(X, 2) .== 1)\n",
    "        # Examples should be in rows\n",
    "        X = X'\n",
    "    end\n",
    "\n",
    "    # Dataset \n",
    "    m = size(X, 1)\n",
    "    p = zeros(m, 1)\n",
    "    pred = zeros(m, 1)\n",
    "    p = X * modelw + modelb\n",
    "\n",
    "    pred[p >= 0] =  1\n",
    "    pred[p .<  0] =  0\n",
    "    return pred \n",
    "\n",
    "end\n",
    "\n",
    "function visualizeBoundaryLinear(X, y, modelw, modelb)\n",
    "    w = modelw;\n",
    "    b = modelb;\n",
    "    xp = linspace(min(X(:,1)), max(X(:,1)), 100);\n",
    "    yp = - (w(1)*xp + b)/w(2);\n",
    "    scatter(X, y);\n",
    "    scatter(xp, yp); \n",
    "end\n"
   ]
  },
  {
   "cell_type": "code",
   "execution_count": 106,
   "id": "f1c1bab5",
   "metadata": {},
   "outputs": [
    {
     "name": "stdout",
     "output_type": "stream",
     "text": [
      "1"
     ]
    },
    {
     "ename": "LoadError",
     "evalue": "MethodError: no method matching zero(::Type{Vector{Float64}})\n\u001b[0mClosest candidates are:\n\u001b[0m  zero(\u001b[91m::Union{Type{P}, P}\u001b[39m) where P<:Dates.Period at C:\\buildbot\\worker\\package_win64\\build\\usr\\share\\julia\\stdlib\\v1.6\\Dates\\src\\periods.jl:53\n\u001b[0m  zero(\u001b[91m::FixedPointNumbers.FixedPoint\u001b[39m) at C:\\Users\\rohit\\.julia\\packages\\FixedPointNumbers\\HAGk2\\src\\FixedPointNumbers.jl:222\n\u001b[0m  zero(\u001b[91m::SparseArrays.AbstractSparseArray\u001b[39m) at C:\\buildbot\\worker\\package_win64\\build\\usr\\share\\julia\\stdlib\\v1.6\\SparseArrays\\src\\SparseArrays.jl:55\n\u001b[0m  ...",
     "output_type": "error",
     "traceback": [
      "MethodError: no method matching zero(::Type{Vector{Float64}})\n\u001b[0mClosest candidates are:\n\u001b[0m  zero(\u001b[91m::Union{Type{P}, P}\u001b[39m) where P<:Dates.Period at C:\\buildbot\\worker\\package_win64\\build\\usr\\share\\julia\\stdlib\\v1.6\\Dates\\src\\periods.jl:53\n\u001b[0m  zero(\u001b[91m::FixedPointNumbers.FixedPoint\u001b[39m) at C:\\Users\\rohit\\.julia\\packages\\FixedPointNumbers\\HAGk2\\src\\FixedPointNumbers.jl:222\n\u001b[0m  zero(\u001b[91m::SparseArrays.AbstractSparseArray\u001b[39m) at C:\\buildbot\\worker\\package_win64\\build\\usr\\share\\julia\\stdlib\\v1.6\\SparseArrays\\src\\SparseArrays.jl:55\n\u001b[0m  ...",
      "",
      "Stacktrace:",
      "  [1] zero(x::Vector{Vector{Float64}})",
      "    @ Base .\\abstractarray.jl:1085",
      "  [2] generic_matvecmul!(C::Vector{Vector{Vector{Float64}}}, tA::Char, A::Matrix{Float64}, B::Vector{Vector{Vector{Float64}}}, _add::LinearAlgebra.MulAddMul{true, true, Bool, Bool})",
      "    @ LinearAlgebra C:\\buildbot\\worker\\package_win64\\build\\usr\\share\\julia\\stdlib\\v1.6\\LinearAlgebra\\src\\matmul.jl:759",
      "  [3] mul!",
      "    @ C:\\buildbot\\worker\\package_win64\\build\\usr\\share\\julia\\stdlib\\v1.6\\LinearAlgebra\\src\\matmul.jl:81 [inlined]",
      "  [4] mul!",
      "    @ C:\\buildbot\\worker\\package_win64\\build\\usr\\share\\julia\\stdlib\\v1.6\\LinearAlgebra\\src\\matmul.jl:275 [inlined]",
      "  [5] *",
      "    @ C:\\buildbot\\worker\\package_win64\\build\\usr\\share\\julia\\stdlib\\v1.6\\LinearAlgebra\\src\\matmul.jl:51 [inlined]",
      "  [6] *",
      "    @ C:\\buildbot\\worker\\package_win64\\build\\usr\\share\\julia\\stdlib\\v1.6\\LinearAlgebra\\src\\matmul.jl:133 [inlined]",
      "  [7] pred(modelw::LinearAlgebra.Adjoint{Float64, Matrix{Float64}}, modelb::Int64, X::Vector{Vector{Vector{Float64}}})",
      "    @ Main .\\In[105]:11",
      "  [8] top-level scope",
      "    @ .\\In[106]:13",
      "  [9] eval",
      "    @ .\\boot.jl:360 [inlined]",
      " [10] include_string(mapexpr::typeof(REPL.softscope), mod::Module, code::String, filename::String)",
      "    @ Base .\\loading.jl:1116"
     ]
    }
   ],
   "source": [
    "using LazyGrids\n",
    "x1plot = LinRange(min.(X[:,1]), max.(X[:,1]), 100);\n",
    "x2plot = LinRange(min.(X[:,2]), max.(X[:,2]), 100);\n",
    "\n",
    "\n",
    "(X1, X2) = ndgrid(x1plot, x2plot);\n",
    "\n",
    "vals = zeros(size(X1));\n",
    "for i = 1:size(X1, 2)\n",
    "    print(i)\n",
    "    this_X = [X1[:, i], X2[:, i]];\n",
    "#     println(this_X);\n",
    "    vals[:, i] = pred(modelw, modelb, this_X);\n",
    "end\n",
    "visualizeBoundaryLinear(X,Y,modelw,modelb)"
   ]
  },
  {
   "cell_type": "code",
   "execution_count": 102,
   "id": "c3ad23bc",
   "metadata": {},
   "outputs": [
    {
     "data": {
      "text/plain": [
       "0"
      ]
     },
     "execution_count": 102,
     "metadata": {},
     "output_type": "execute_result"
    }
   ],
   "source": [
    "modelb"
   ]
  },
  {
   "cell_type": "code",
   "execution_count": null,
   "id": "836fa2d5",
   "metadata": {},
   "outputs": [],
   "source": []
  }
 ],
 "metadata": {
  "kernelspec": {
   "display_name": "Julia 1.6.2",
   "language": "julia",
   "name": "julia-1.6"
  },
  "language_info": {
   "file_extension": ".jl",
   "mimetype": "application/julia",
   "name": "julia",
   "version": "1.6.2"
  }
 },
 "nbformat": 4,
 "nbformat_minor": 5
}
